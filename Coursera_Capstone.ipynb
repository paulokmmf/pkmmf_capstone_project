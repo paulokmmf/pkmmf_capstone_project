{
    "cells": [
        {
            "cell_type": "markdown",
            "metadata": {
                "collapsed": true
            },
            "source": "###  Capstone_Project_Notebook\n"
        },
        {
            "cell_type": "markdown",
            "metadata": {},
            "source": "This notebook will be used for the capstone project."
        },
        {
            "cell_type": "code",
            "execution_count": 1,
            "metadata": {},
            "outputs": [],
            "source": "import numpy as np\nimport pandas as pd\n"
        },
        {
            "cell_type": "code",
            "execution_count": 2,
            "metadata": {},
            "outputs": [
                {
                    "name": "stdout",
                    "output_type": "stream",
                    "text": "Hello Capstone Project Course!\n"
                }
            ],
            "source": "print('Hello Capstone Project Course!')"
        },
        {
            "cell_type": "code",
            "execution_count": null,
            "metadata": {},
            "outputs": [],
            "source": ""
        }
    ],
    "metadata": {
        "kernelspec": {
            "display_name": "Python 3.7",
            "language": "python",
            "name": "python3"
        },
        "language_info": {
            "codemirror_mode": {
                "name": "ipython",
                "version": 3
            },
            "file_extension": ".py",
            "mimetype": "text/x-python",
            "name": "python",
            "nbconvert_exporter": "python",
            "pygments_lexer": "ipython3",
            "version": "3.7.9"
        }
    },
    "nbformat": 4,
    "nbformat_minor": 1
}




#### WEEK 3 TASK 1
https://github.com/mj409897/Coursera_Capstone/blob/main/Coursera_Capstone_Week_3.ipynb


Coursera Capstone Project - Week 3 Task
Scraping Data from Wikipedia
In [87]:
import pandas as pd
from collections import Counter
In [16]:
url='https://en.wikipedia.org/wiki/List_of_postal_codes_of_Canada:_M'
In [99]:
table=pd.read_html(url)
table[0]
Out[99]:
Postal Code	Borough	Neighbourhood
0	M1A	Not assigned	Not assigned
1	M2A	Not assigned	Not assigned
2	M3A	North York	Parkwoods
3	M4A	North York	Victoria Village
4	M5A	Downtown Toronto	Regent Park, Harbourfront
...	...	...	...
175	M5Z	Not assigned	Not assigned
176	M6Z	Not assigned	Not assigned
177	M7Z	Not assigned	Not assigned
178	M8Z	Etobicoke	Mimico NW, The Queensway West, South of Bloor,...
179	M9Z	Not assigned	Not assigned
180 rows × 3 columns

In [98]:

Out[98]:
Postal Code	Borough	Neighbourhood
In [100]:
checktable1=table[0]['Borough']!='Not assigned'
df_checked1=df[checktable]
df_checked1
Out[100]:
Postal Code	Borough	Neighbourhood
2	M3A	North York	Parkwoods
3	M4A	North York	Victoria Village
4	M5A	Downtown Toronto	Regent Park, Harbourfront
5	M6A	North York	Lawrence Manor, Lawrence Heights
6	M7A	Downtown Toronto	Queen's Park, Ontario Provincial Government
...	...	...	...
160	M8X	Etobicoke	The Kingsway, Montgomery Road, Old Mill North
165	M4Y	Downtown Toronto	Church and Wellesley
168	M7Y	East Toronto	Business reply mail Processing Centre, South C...
169	M8Y	Etobicoke	Old Mill South, King's Mill Park, Sunnylea, Hu...
178	M8Z	Etobicoke	Mimico NW, The Queensway West, South of Bloor,...
103 rows × 3 columns

In [106]:
print('Number of rows: ',df_checked1.shape[0])
print('Number of columns: ',df_checked1.shape[1])
Number of rows:  103
Number of columns:  3
In [ ]:


#### WEEK 3 TASK 2
https://github.com/mj409897/Coursera_Capstone/blob/main/Coursera_Capstone_Week_3_Task_2.ipynb


Coursera Capstone Project - Week 3 Task
Scraping Data from Wikipedia
In [116]:
import pandas as pd
from collections import Counter
In [117]:
url='https://en.wikipedia.org/wiki/List_of_postal_codes_of_Canada:_M'
In [118]:
table=pd.read_html(url)
table[0]
Out[118]:
Postal Code	Borough	Neighbourhood
0	M1A	Not assigned	Not assigned
1	M2A	Not assigned	Not assigned
2	M3A	North York	Parkwoods
3	M4A	North York	Victoria Village
4	M5A	Downtown Toronto	Regent Park, Harbourfront
...	...	...	...
175	M5Z	Not assigned	Not assigned
176	M6Z	Not assigned	Not assigned
177	M7Z	Not assigned	Not assigned
178	M8Z	Etobicoke	Mimico NW, The Queensway West, South of Bloor,...
179	M9Z	Not assigned	Not assigned
180 rows × 3 columns

In [ ]:

In [119]:
checktable1=table[0]['Borough']!='Not assigned'
df_checked1=table[0][checktable]
df_checked1
Out[119]:
Postal Code	Borough	Neighbourhood
2	M3A	North York	Parkwoods
3	M4A	North York	Victoria Village
4	M5A	Downtown Toronto	Regent Park, Harbourfront
5	M6A	North York	Lawrence Manor, Lawrence Heights
6	M7A	Downtown Toronto	Queen's Park, Ontario Provincial Government
...	...	...	...
160	M8X	Etobicoke	The Kingsway, Montgomery Road, Old Mill North
165	M4Y	Downtown Toronto	Church and Wellesley
168	M7Y	East Toronto	Business reply mail Processing Centre, South C...
169	M8Y	Etobicoke	Old Mill South, King's Mill Park, Sunnylea, Hu...
178	M8Z	Etobicoke	Mimico NW, The Queensway West, South of Bloor,...
103 rows × 3 columns

In [120]:
print('Number of rows: ',df_checked1.shape[0])
print('Number of columns: ',df_checked1.shape[1])
Number of rows:  103
Number of columns:  3
Task number 2: Get the coordinates
Way 1: Get the coordinates by using the geocoder package
In [123]:
postal_codes=list(df_checked1['Postal Code'])
latitudes=[]
longitudes=[]

import geocoder # import geocoder

# initialize your variable to None
lat_lng_coords = None

# loop until you get the coordinates

#for postal_code in postal_codes:
 #   while(lat_lng_coords is None):
  #      g = geocoder.google('{}, Toronto, Ontario'.format(postal_code))
   #     lat_lng_coords = g.latlng
    #latitude = lat_lng_coords[0]
    #longitude = lat_lng_coords[1]
    #latitudes.append[latitude]
    #longitudes.append[longitude]
    
## This way was too time intensive, so I decided to use the csv file in the cells below, provided by the IBM Team.
Way 2: Get the Coordinates by using the csv file provided by the IBM Team
In [133]:
url_geospatial_data='http://cocl.us/Geospatial_data'

df_geospatial=pd.read_csv(url_geospatial_data)
df_geospatial.head()
Out[133]:
Postal Code	Latitude	Longitude
0	M1B	43.806686	-79.194353
1	M1C	43.784535	-79.160497
2	M1E	43.763573	-79.188711
3	M1G	43.770992	-79.216917
4	M1H	43.773136	-79.239476
In [134]:
df_total=pd.merge(df_geospatial,df_checked1,on='Postal Code')
In [143]:
df_total.head(2)
Out[143]:
Postal Code	Borough	Neighbourhood	Latitude	Longitude
0	M1B	Scarborough	Malvern, Rouge	43.806686	-79.194353
1	M1C	Scarborough	Rouge Hill, Port Union, Highland Creek	43.784535	-79.160497
In [138]:
print('DF_TOTAL:',df_total.shape)
print('DF CHECKED1:',df_checked1.shape)
DF_TOTAL: (103, 5)
DF CHECKED1: (103, 3)
In [144]:
df_total=df_total[['Postal Code','Borough','Neighbourhood','Latitude','Longitude']]
df_total.head(10)
Out[144]:
Postal Code	Borough	Neighbourhood	Latitude	Longitude
0	M1B	Scarborough	Malvern, Rouge	43.806686	-79.194353
1	M1C	Scarborough	Rouge Hill, Port Union, Highland Creek	43.784535	-79.160497
2	M1E	Scarborough	Guildwood, Morningside, West Hill	43.763573	-79.188711
3	M1G	Scarborough	Woburn	43.770992	-79.216917
4	M1H	Scarborough	Cedarbrae	43.773136	-79.239476
5	M1J	Scarborough	Scarborough Village	43.744734	-79.239476
6	M1K	Scarborough	Kennedy Park, Ionview, East Birchmount Park	43.727929	-79.262029
7	M1L	Scarborough	Golden Mile, Clairlea, Oakridge	43.711112	-79.284577
8	M1M	Scarborough	Cliffside, Cliffcrest, Scarborough Village West	43.716316	-79.239476
9	M1N	Scarborough	Birch Cliff, Cliffside West	43.692657	-79.264848



#### WEEK 3 TASK 3
https://nbviewer.jupyter.org/github/mj409897/Coursera_Capstone/blob/main/Coursera_Capstone_Week_3_Task_3.ipynb


Coursera Capstone Project - Week 3 Task
Scraping Data from Wikipedia
import pandas as pd
from collections import Counter
url='https://en.wikipedia.org/wiki/List_of_postal_codes_of_Canada:_M'
table=pd.read_html(url)
table[0]
Postal Code	Borough	Neighbourhood
0	M1A	Not assigned	Not assigned
1	M2A	Not assigned	Not assigned
2	M3A	North York	Parkwoods
3	M4A	North York	Victoria Village
4	M5A	Downtown Toronto	Regent Park, Harbourfront
...	...	...	...
175	M5Z	Not assigned	Not assigned
176	M6Z	Not assigned	Not assigned
177	M7Z	Not assigned	Not assigned
178	M8Z	Etobicoke	Mimico NW, The Queensway West, South of Bloor,...
179	M9Z	Not assigned	Not assigned
180 rows × 3 columns


checktable1=table[0]['Borough']!='Not assigned'
df_checked1=table[0][checktable1]
df_checked1
Postal Code	Borough	Neighbourhood
2	M3A	North York	Parkwoods
3	M4A	North York	Victoria Village
4	M5A	Downtown Toronto	Regent Park, Harbourfront
5	M6A	North York	Lawrence Manor, Lawrence Heights
6	M7A	Downtown Toronto	Queen's Park, Ontario Provincial Government
...	...	...	...
160	M8X	Etobicoke	The Kingsway, Montgomery Road, Old Mill North
165	M4Y	Downtown Toronto	Church and Wellesley
168	M7Y	East Toronto	Business reply mail Processing Centre, South C...
169	M8Y	Etobicoke	Old Mill South, King's Mill Park, Sunnylea, Hu...
178	M8Z	Etobicoke	Mimico NW, The Queensway West, South of Bloor,...
103 rows × 3 columns

print('Number of rows: ',df_checked1.shape[0])
print('Number of columns: ',df_checked1.shape[1])
Number of rows:  103
Number of columns:  3
Task number 2: Get the coordinates
Way 1: Get the coordinates by using the geocoder package
postal_codes=list(df_checked1['Postal Code'])
latitudes=[]
longitudes=[]

import geocoder # import geocoder

# initialize your variable to None
lat_lng_coords = None

# loop until you get the coordinates

#for postal_code in postal_codes:
 #   while(lat_lng_coords is None):
  #      g = geocoder.google('{}, Toronto, Ontario'.format(postal_code))
   #     lat_lng_coords = g.latlng
    #latitude = lat_lng_coords[0]
    #longitude = lat_lng_coords[1]
    #latitudes.append[latitude]
    #longitudes.append[longitude]
    
## This way was too time intensive, so I decided to use the csv file in the cells below, provided by the IBM Team.
Way 2: Get the Coordinates by using the csv file provided by the IBM Team
url_geospatial_data='http://cocl.us/Geospatial_data'

df_geospatial=pd.read_csv(url_geospatial_data)
df_geospatial.head()
Postal Code	Latitude	Longitude
0	M1B	43.806686	-79.194353
1	M1C	43.784535	-79.160497
2	M1E	43.763573	-79.188711
3	M1G	43.770992	-79.216917
4	M1H	43.773136	-79.239476
df_total=pd.merge(df_geospatial,df_checked1,on='Postal Code')
df_total.head(2)
Postal Code	Latitude	Longitude	Borough	Neighbourhood
0	M1B	43.806686	-79.194353	Scarborough	Malvern, Rouge
1	M1C	43.784535	-79.160497	Scarborough	Rouge Hill, Port Union, Highland Creek
print('DF_TOTAL:',df_total.shape)
print('DF CHECKED1:',df_checked1.shape)
DF_TOTAL: (103, 5)
DF CHECKED1: (103, 3)
df_total=df_total[['Postal Code','Borough','Neighbourhood','Latitude','Longitude']]
df_total
Postal Code	Borough	Neighbourhood	Latitude	Longitude
0	M1B	Scarborough	Malvern, Rouge	43.806686	-79.194353
1	M1C	Scarborough	Rouge Hill, Port Union, Highland Creek	43.784535	-79.160497
2	M1E	Scarborough	Guildwood, Morningside, West Hill	43.763573	-79.188711
3	M1G	Scarborough	Woburn	43.770992	-79.216917
4	M1H	Scarborough	Cedarbrae	43.773136	-79.239476
...	...	...	...	...	...
98	M9N	York	Weston	43.706876	-79.518188
99	M9P	Etobicoke	Westmount	43.696319	-79.532242
100	M9R	Etobicoke	Kingsview Village, St. Phillips, Martin Grove ...	43.688905	-79.554724
101	M9V	Etobicoke	South Steeles, Silverstone, Humbergate, Jamest...	43.739416	-79.588437
102	M9W	Etobicoke	Northwest, West Humber - Clairville	43.706748	-79.594054
103 rows × 5 columns

Task number 3: Classification Process
Searching for the Toronto - Boroughs:
search=list(df_total['Borough'].unique()[[3,4,5,7]])
search
['East Toronto', 'Central Toronto', 'Downtown Toronto', 'West Toronto']
#Creating a template to cut the dataframe for the Toronto-Boroughs
toronto_template=df_total['Borough'].isin(search)
set(toronto_template)
{False, True}
df_toronto=df_total[toronto_template]
df_toronto.head(3)
Postal Code	Borough	Neighbourhood	Latitude	Longitude
37	M4E	East Toronto	The Beaches	43.676357	-79.293031
41	M4K	East Toronto	The Danforth West, Riverdale	43.679557	-79.352188
42	M4L	East Toronto	India Bazaar, The Beaches West	43.668999	-79.315572
Get a basemap of Toronto
import folium
import geopy
geolocator=geopy.geocoders.Nominatim(user_agent="Toronto_App")
location = geolocator.geocode("Toronto")# 175 5th Avenue NYC")
lat,long=location[1]
toronto_map=folium.Map(location=[lat,long],zoom_start=13)
#toronto_map
Preparing the Foursquare query
1. Numerate the Credentials
CLIENT_ID='F52IQDHA343DRBLNO1UQLNW1VSQJZ4AMDELYGJO04MGQS2FY'
CLIENT_SECRET='O0ARTXKT5NZOJAGWW4D1UOMJK42UXTNOD0HB3ONEEIT4LZJ4'
RADIUS=500
VERSION='20210101'
LIMIT=100
2. Input of Location Data
Location=[]
Labels=[]

for name,lat,long in list(zip(df_toronto['Neighbourhood'],df_toronto['Latitude'],df_toronto['Longitude'])):
    Location.append((lat,long))
    Labels.append(name)
Labels[0:5]
Location[0:5]    
[(43.67635739999999, -79.2930312),
 (43.6795571, -79.352188),
 (43.6689985, -79.31557159999998),
 (43.6595255, -79.340923),
 (43.7280205, -79.3887901)]
Visualization of all Neighbourhoods
for loc,name in zip(Location,Labels):
    folium.map.Marker(location=loc, popup=name, tooltip=None, icon=None, draggable=False).add_to(toronto_map)
#toronto_map
3. Preparing Foursquare query
import json, requests
Get the first Neighborhood
#Resetting the Index
#df_toronto.reset_index(inplace=True)
#df_toronto.drop('index',axis=1,inplace=True)
df_toronto.head(1)
Postal Code	Borough	Neighbourhood	Latitude	Longitude
0	M4E	East Toronto	The Beaches	43.676357	-79.293031
import numpy as np
torontos_neighbourhoods=np.array(df_toronto.loc[:,['Neighbourhood','Latitude','Longitude']])
torontos_neighbourhoods[0:1]
array([['The Beaches', 43.67635739999999, -79.2930312]], dtype=object)
# Get Information about the first Neighbourhood using foursquare:

first_neighbourhood=torontos_neighbourhoods[0]

url='https://api.foursquare.com/v2/venues/explore?&client_id={}&client_secret={}&v={}&ll={},{}&radius={}&limit={}'.format(CLIENT_ID,
                                                                                                                          CLIENT_SECRET,
                                                                                                                          VERSION,
                                                                                                                          first_neighbourhood[1],
                                                                                                                          first_neighbourhood[2],
                                                                                                                          LIMIT,
                                                                                                                          RADIUS
                                                                                                                         )

resp=requests.get(url)
data_first_neighbourhood=json.loads(resp.text)
data_first_neighbourhood
{'meta': {'code': 200, 'requestId': '601d716c21d85f1b7ad3f6c8'},
 'response': {'warning': {'text': "There aren't a lot of results near you. Try something more general, reset your filters, or expand the search area."},
  'headerLocation': 'The Beaches',
  'headerFullLocation': 'The Beaches, Toronto',
  'headerLocationGranularity': 'neighborhood',
  'totalResults': 1,
  'suggestedBounds': {'ne': {'lat': 43.6772574009, 'lng': -79.29178914289811},
   'sw': {'lat': 43.67545739909999, 'lng': -79.29427325710189}},
  'groups': [{'type': 'Recommended Places',
    'name': 'recommended',
    'items': [{'reasons': {'count': 0,
       'items': [{'summary': 'This spot is popular',
         'type': 'general',
         'reasonName': 'globalInteractionReason'}]},
      'venue': {'id': '4bd461bc77b29c74a07d9282',
       'name': 'Glen Manor Ravine',
       'location': {'address': 'Glen Manor',
        'crossStreet': 'Queen St.',
        'lat': 43.67682094413784,
        'lng': -79.29394208780985,
        'labeledLatLngs': [{'label': 'display',
          'lat': 43.67682094413784,
          'lng': -79.29394208780985}],
        'distance': 89,
        'cc': 'CA',
        'city': 'Toronto',
        'state': 'ON',
        'country': 'Canada',
        'formattedAddress': ['Glen Manor (Queen St.)',
         'Toronto ON',
         'Canada']},
       'categories': [{'id': '4bf58dd8d48988d159941735',
         'name': 'Trail',
         'pluralName': 'Trails',
         'shortName': 'Trail',
         'icon': {'prefix': 'https://ss3.4sqi.net/img/categories_v2/parks_outdoors/hikingtrail_',
          'suffix': '.png'},
         'primary': True}],
       'photos': {'count': 0, 'groups': []}},
      'referralId': 'e-0-4bd461bc77b29c74a07d9282-0'}]}]}}
# Definition to get the next venues per neighbourhood:

def getNearbyVenues(names, latitudes, longitudes, radius=RADIUS):
    
    venues_list=[]
    for name, lat, lng in zip(names, latitudes, longitudes):
        #print(name)
            
        # create the API request URL
        url = 'https://api.foursquare.com/v2/venues/explore?&client_id={}&client_secret={}&v={}&ll={},{}&radius={}&limit={}'.format(
            CLIENT_ID, 
            CLIENT_SECRET, 
            VERSION, 
            lat, 
            lng, 
            radius, 
            LIMIT)
            
        # make the GET request
        results = requests.get(url).json()["response"]['groups'][0]['items']
        
        # return only relevant information for each nearby venue
        venues_list.append([(
            name, 
            lat, 
            lng, 
            v['venue']['name'], 
            v['venue']['location']['lat'], 
            v['venue']['location']['lng'],  
            v['venue']['categories'][0]['name']) for v in results])

    nearby_venues = pd.DataFrame([item for venue_list in venues_list for item in venue_list])
    nearby_venues.columns = ['Neighborhood', 
                  'Neighborhood Latitude', 
                  'Neighborhood Longitude', 
                  'Venue', 
                  'Venue Latitude', 
                  'Venue Longitude', 
                  'Venue Category']
    
    return(nearby_venues)
Applying the definition to the toronto data:
# Need for name, longitude and latitude out of the toronto data:
names=torontos_neighbourhoods[:,0]
latitudes=torontos_neighbourhoods[:,1]
longitudes=torontos_neighbourhoods[:,2]
assert len(names)==len(latitudes)==len(longitudes)

toronto_venues=getNearbyVenues(names,latitudes,longitudes,RADIUS)
toronto_venues.head()
Neighborhood	Neighborhood Latitude	Neighborhood Longitude	Venue	Venue Latitude	Venue Longitude	Venue Category
0	The Beaches	43.676357	-79.293031	Glen Manor Ravine	43.676821	-79.293942	Trail
1	The Beaches	43.676357	-79.293031	The Big Carrot Natural Food Market	43.678879	-79.297734	Health Food Store
2	The Beaches	43.676357	-79.293031	Grover Pub and Grub	43.679181	-79.297215	Pub
3	The Beaches	43.676357	-79.293031	Glen Stewart Park	43.675278	-79.294647	Park
4	The Beaches	43.676357	-79.293031	Upper Beaches	43.680563	-79.292869	Neighborhood
toronto_venues.groupby('Neighborhood').count().head(5)
Neighborhood Latitude	Neighborhood Longitude	Venue	Venue Latitude	Venue Longitude	Venue Category
Neighborhood						
Berczy Park	55	55	55	55	55	55
Brockton, Parkdale Village, Exhibition Place	22	22	22	22	22	22
Business reply mail Processing Centre, South Central Letter Processing Plant Toronto	16	16	16	16	16	16
CN Tower, King and Spadina, Railway Lands, Harbourfront West, Bathurst Quay, South Niagara, Island airport	18	18	18	18	18	18
Central Bay Street	61	61	61	61	61	61
#Number of different Venue Categories:

len(toronto_venues['Venue Category'].unique())
233
#One-Hot-Encoding:

pd.set_option('display.max_columns', None)
pd.set_option('display.max_rows', None)
toronto_venues_onehot=pd.get_dummies(toronto_venues[['Venue Category']],prefix='',prefix_sep='')
toronto_venues_onehot.insert(0,'Neighbourhood',toronto_venues['Neighborhood'],True)
toronto_venues_onehot.head()
Neighbourhood	Adult Boutique	Airport	Airport Food Court	Airport Gate	Airport Lounge	Airport Service	Airport Terminal	American Restaurant	Antique Shop	Aquarium	Art Gallery	Art Museum	Arts & Crafts Store	Asian Restaurant	Athletics & Sports	Auto Workshop	BBQ Joint	Baby Store	Bagel Shop	Bakery	Bank	Bar	Baseball Stadium	Basketball Stadium	Beach	Bed & Breakfast	Beer Bar	Beer Store	Belgian Restaurant	Bike Rental / Bike Share	Bistro	Boat or Ferry	Bookstore	Boutique	Brazilian Restaurant	Breakfast Spot	Brewery	Bubble Tea Shop	Building	Burger Joint	Burrito Place	Bus Line	Butcher	Café	Cajun / Creole Restaurant	Candy Store	Caribbean Restaurant	Cheese Shop	Chinese Restaurant	Chocolate Shop	Church	Climbing Gym	Clothing Store	Cocktail Bar	Coffee Shop	College Arts Building	College Auditorium	College Cafeteria	College Gym	College Rec Center	Colombian Restaurant	Comfort Food Restaurant	Comic Shop	Concert Hall	Convenience Store	Cosmetics Shop	Coworking Space	Creperie	Cuban Restaurant	Cupcake Shop	Dance Studio	Deli / Bodega	Department Store	Dessert Shop	Diner	Discount Store	Distribution Center	Dog Run	Doner Restaurant	Donut Shop	Dumpling Restaurant	Eastern European Restaurant	Electronics Store	Ethiopian Restaurant	Event Space	Falafel Restaurant	Farmers Market	Fast Food Restaurant	Filipino Restaurant	Fish & Chips Shop	Fish Market	Flea Market	Flower Shop	Food & Drink Shop	Food Court	Food Truck	Fountain	French Restaurant	Fried Chicken Joint	Frozen Yogurt Shop	Fruit & Vegetable Store	Furniture / Home Store	Gaming Cafe	Garden	Garden Center	Gas Station	Gastropub	Gay Bar	General Entertainment	General Travel	German Restaurant	Gift Shop	Gluten-free Restaurant	Gourmet Shop	Greek Restaurant	Grocery Store	Gym	Gym / Fitness Center	Harbor / Marina	Health & Beauty Service	Health Food Store	Historic Site	History Museum	Home Service	Hookah Bar	Hospital	Hotel	Hotel Bar	IT Services	Ice Cream Shop	Indian Restaurant	Indie Movie Theater	Intersection	Irish Pub	Italian Restaurant	Japanese Restaurant	Jazz Club	Jewelry Store	Juice Bar	Korean Restaurant	Lake	Latin American Restaurant	Light Rail Station	Lingerie Store	Liquor Store	Lounge	Market	Martial Arts School	Mediterranean Restaurant	Men's Store	Mexican Restaurant	Middle Eastern Restaurant	Miscellaneous Shop	Modern European Restaurant	Molecular Gastronomy Restaurant	Monument / Landmark	Moroccan Restaurant	Movie Theater	Museum	Music Venue	Neighborhood	New American Restaurant	Nightclub	Noodle House	Office	Opera House	Optical Shop	Organic Grocery	Other Great Outdoors	Park	Performing Arts Venue	Pet Store	Pharmacy	Pizza Place	Plane	Playground	Plaza	Poke Place	Pool	Portuguese Restaurant	Poutine Place	Pub	Ramen Restaurant	Record Shop	Recording Studio	Rental Car Location	Restaurant	Roof Deck	Sake Bar	Salad Place	Salon / Barbershop	Sandwich Place	Scenic Lookout	Sculpture Garden	Seafood Restaurant	Shoe Store	Shopping Mall	Skate Park	Skating Rink	Smoke Shop	Smoothie Shop	Snack Place	Soup Place	Spa	Speakeasy	Sporting Goods Shop	Sports Bar	Stadium	Stationery Store	Steakhouse	Strip Club	Summer Camp	Supermarket	Sushi Restaurant	Swim School	Taco Place	Tailor Shop	Taiwanese Restaurant	Tanning Salon	Tea Room	Tennis Court	Thai Restaurant	Theater	Theme Restaurant	Tibetan Restaurant	Toy / Game Store	Trail	Train Station	Vegetarian / Vegan Restaurant	Video Game Store	Vietnamese Restaurant	Wine Bar	Yoga Studio
0	The Beaches	0	0	0	0	0	0	0	0	0	0	0	0	0	0	0	0	0	0	0	0	0	0	0	0	0	0	0	0	0	0	0	0	0	0	0	0	0	0	0	0	0	0	0	0	0	0	0	0	0	0	0	0	0	0	0	0	0	0	0	0	0	0	0	0	0	0	0	0	0	0	0	0	0	0	0	0	0	0	0	0	0	0	0	0	0	0	0	0	0	0	0	0	0	0	0	0	0	0	0	0	0	0	0	0	0	0	0	0	0	0	0	0	0	0	0	0	0	0	0	0	0	0	0	0	0	0	0	0	0	0	0	0	0	0	0	0	0	0	0	0	0	0	0	0	0	0	0	0	0	0	0	0	0	0	0	0	0	0	0	0	0	0	0	0	0	0	0	0	0	0	0	0	0	0	0	0	0	0	0	0	0	0	0	0	0	0	0	0	0	0	0	0	0	0	0	0	0	0	0	0	0	0	0	0	0	0	0	0	0	0	0	0	0	0	0	0	0	0	0	0	0	0	0	0	0	0	1	0	0	0	0	0	0
1	The Beaches	0	0	0	0	0	0	0	0	0	0	0	0	0	0	0	0	0	0	0	0	0	0	0	0	0	0	0	0	0	0	0	0	0	0	0	0	0	0	0	0	0	0	0	0	0	0	0	0	0	0	0	0	0	0	0	0	0	0	0	0	0	0	0	0	0	0	0	0	0	0	0	0	0	0	0	0	0	0	0	0	0	0	0	0	0	0	0	0	0	0	0	0	0	0	0	0	0	0	0	0	0	0	0	0	0	0	0	0	0	0	0	0	0	0	0	0	0	0	0	0	1	0	0	0	0	0	0	0	0	0	0	0	0	0	0	0	0	0	0	0	0	0	0	0	0	0	0	0	0	0	0	0	0	0	0	0	0	0	0	0	0	0	0	0	0	0	0	0	0	0	0	0	0	0	0	0	0	0	0	0	0	0	0	0	0	0	0	0	0	0	0	0	0	0	0	0	0	0	0	0	0	0	0	0	0	0	0	0	0	0	0	0	0	0	0	0	0	0	0	0	0	0	0	0	0	0	0	0	0	0	0	0	0
2	The Beaches	0	0	0	0	0	0	0	0	0	0	0	0	0	0	0	0	0	0	0	0	0	0	0	0	0	0	0	0	0	0	0	0	0	0	0	0	0	0	0	0	0	0	0	0	0	0	0	0	0	0	0	0	0	0	0	0	0	0	0	0	0	0	0	0	0	0	0	0	0	0	0	0	0	0	0	0	0	0	0	0	0	0	0	0	0	0	0	0	0	0	0	0	0	0	0	0	0	0	0	0	0	0	0	0	0	0	0	0	0	0	0	0	0	0	0	0	0	0	0	0	0	0	0	0	0	0	0	0	0	0	0	0	0	0	0	0	0	0	0	0	0	0	0	0	0	0	0	0	0	0	0	0	0	0	0	0	0	0	0	0	0	0	0	0	0	0	0	0	0	0	0	0	0	0	0	0	0	0	0	0	0	1	0	0	0	0	0	0	0	0	0	0	0	0	0	0	0	0	0	0	0	0	0	0	0	0	0	0	0	0	0	0	0	0	0	0	0	0	0	0	0	0	0	0	0	0	0	0	0	0	0	0	0
3	The Beaches	0	0	0	0	0	0	0	0	0	0	0	0	0	0	0	0	0	0	0	0	0	0	0	0	0	0	0	0	0	0	0	0	0	0	0	0	0	0	0	0	0	0	0	0	0	0	0	0	0	0	0	0	0	0	0	0	0	0	0	0	0	0	0	0	0	0	0	0	0	0	0	0	0	0	0	0	0	0	0	0	0	0	0	0	0	0	0	0	0	0	0	0	0	0	0	0	0	0	0	0	0	0	0	0	0	0	0	0	0	0	0	0	0	0	0	0	0	0	0	0	0	0	0	0	0	0	0	0	0	0	0	0	0	0	0	0	0	0	0	0	0	0	0	0	0	0	0	0	0	0	0	0	0	0	0	0	0	0	0	0	0	0	0	0	0	0	0	0	0	1	0	0	0	0	0	0	0	0	0	0	0	0	0	0	0	0	0	0	0	0	0	0	0	0	0	0	0	0	0	0	0	0	0	0	0	0	0	0	0	0	0	0	0	0	0	0	0	0	0	0	0	0	0	0	0	0	0	0	0	0	0	0	0
4	The Beaches	0	0	0	0	0	0	0	0	0	0	0	0	0	0	0	0	0	0	0	0	0	0	0	0	0	0	0	0	0	0	0	0	0	0	0	0	0	0	0	0	0	0	0	0	0	0	0	0	0	0	0	0	0	0	0	0	0	0	0	0	0	0	0	0	0	0	0	0	0	0	0	0	0	0	0	0	0	0	0	0	0	0	0	0	0	0	0	0	0	0	0	0	0	0	0	0	0	0	0	0	0	0	0	0	0	0	0	0	0	0	0	0	0	0	0	0	0	0	0	0	0	0	0	0	0	0	0	0	0	0	0	0	0	0	0	0	0	0	0	0	0	0	0	0	0	0	0	0	0	0	0	0	0	0	0	0	0	0	0	0	1	0	0	0	0	0	0	0	0	0	0	0	0	0	0	0	0	0	0	0	0	0	0	0	0	0	0	0	0	0	0	0	0	0	0	0	0	0	0	0	0	0	0	0	0	0	0	0	0	0	0	0	0	0	0	0	0	0	0	0	0	0	0	0	0	0	0	0	0	0	0	0	0
#Create mean (Of occurency) of the Venues in the grouped Neighborhood
toronto_grouped=toronto_venues_onehot.groupby('Neighbourhood').mean().reset_index()
toronto_grouped.head(2)
Neighbourhood	Adult Boutique	Airport	Airport Food Court	Airport Gate	Airport Lounge	Airport Service	Airport Terminal	American Restaurant	Antique Shop	Aquarium	Art Gallery	Art Museum	Arts & Crafts Store	Asian Restaurant	Athletics & Sports	Auto Workshop	BBQ Joint	Baby Store	Bagel Shop	Bakery	Bank	Bar	Baseball Stadium	Basketball Stadium	Beach	Bed & Breakfast	Beer Bar	Beer Store	Belgian Restaurant	Bike Rental / Bike Share	Bistro	Boat or Ferry	Bookstore	Boutique	Brazilian Restaurant	Breakfast Spot	Brewery	Bubble Tea Shop	Building	Burger Joint	Burrito Place	Bus Line	Butcher	Café	Cajun / Creole Restaurant	Candy Store	Caribbean Restaurant	Cheese Shop	Chinese Restaurant	Chocolate Shop	Church	Climbing Gym	Clothing Store	Cocktail Bar	Coffee Shop	College Arts Building	College Auditorium	College Cafeteria	College Gym	College Rec Center	Colombian Restaurant	Comfort Food Restaurant	Comic Shop	Concert Hall	Convenience Store	Cosmetics Shop	Coworking Space	Creperie	Cuban Restaurant	Cupcake Shop	Dance Studio	Deli / Bodega	Department Store	Dessert Shop	Diner	Discount Store	Distribution Center	Dog Run	Doner Restaurant	Donut Shop	Dumpling Restaurant	Eastern European Restaurant	Electronics Store	Ethiopian Restaurant	Event Space	Falafel Restaurant	Farmers Market	Fast Food Restaurant	Filipino Restaurant	Fish & Chips Shop	Fish Market	Flea Market	Flower Shop	Food & Drink Shop	Food Court	Food Truck	Fountain	French Restaurant	Fried Chicken Joint	Frozen Yogurt Shop	Fruit & Vegetable Store	Furniture / Home Store	Gaming Cafe	Garden	Garden Center	Gas Station	Gastropub	Gay Bar	General Entertainment	General Travel	German Restaurant	Gift Shop	Gluten-free Restaurant	Gourmet Shop	Greek Restaurant	Grocery Store	Gym	Gym / Fitness Center	Harbor / Marina	Health & Beauty Service	Health Food Store	Historic Site	History Museum	Home Service	Hookah Bar	Hospital	Hotel	Hotel Bar	IT Services	Ice Cream Shop	Indian Restaurant	Indie Movie Theater	Intersection	Irish Pub	Italian Restaurant	Japanese Restaurant	Jazz Club	Jewelry Store	Juice Bar	Korean Restaurant	Lake	Latin American Restaurant	Light Rail Station	Lingerie Store	Liquor Store	Lounge	Market	Martial Arts School	Mediterranean Restaurant	Men's Store	Mexican Restaurant	Middle Eastern Restaurant	Miscellaneous Shop	Modern European Restaurant	Molecular Gastronomy Restaurant	Monument / Landmark	Moroccan Restaurant	Movie Theater	Museum	Music Venue	Neighborhood	New American Restaurant	Nightclub	Noodle House	Office	Opera House	Optical Shop	Organic Grocery	Other Great Outdoors	Park	Performing Arts Venue	Pet Store	Pharmacy	Pizza Place	Plane	Playground	Plaza	Poke Place	Pool	Portuguese Restaurant	Poutine Place	Pub	Ramen Restaurant	Record Shop	Recording Studio	Rental Car Location	Restaurant	Roof Deck	Sake Bar	Salad Place	Salon / Barbershop	Sandwich Place	Scenic Lookout	Sculpture Garden	Seafood Restaurant	Shoe Store	Shopping Mall	Skate Park	Skating Rink	Smoke Shop	Smoothie Shop	Snack Place	Soup Place	Spa	Speakeasy	Sporting Goods Shop	Sports Bar	Stadium	Stationery Store	Steakhouse	Strip Club	Summer Camp	Supermarket	Sushi Restaurant	Swim School	Taco Place	Tailor Shop	Taiwanese Restaurant	Tanning Salon	Tea Room	Tennis Court	Thai Restaurant	Theater	Theme Restaurant	Tibetan Restaurant	Toy / Game Store	Trail	Train Station	Vegetarian / Vegan Restaurant	Video Game Store	Vietnamese Restaurant	Wine Bar	Yoga Studio
0	Berczy Park	0.0	0.0	0.0	0.0	0.0	0.0	0.0	0.0	0.0	0.0	0.018182	0.0	0.0	0.0	0.0	0.0	0.0	0.0	0.018182	0.036364	0.0	0.000000	0.0	0.018182	0.018182	0.0	0.036364	0.0	0.0	0.0	0.018182	0.0	0.0	0.0	0.0	0.018182	0.0	0.0	0.0	0.0	0.000000	0.0	0.0	0.018182	0.0	0.0	0.0	0.036364	0.0	0.0	0.0	0.000000	0.018182	0.054545	0.090909	0.0	0.0	0.0	0.0	0.0	0.0	0.018182	0.0	0.018182	0.000000	0.0	0.0	0.018182	0.0	0.0	0.0	0.0	0.018182	0.0	0.018182	0.0	0.0	0.0	0.0	0.0	0.0	0.018182	0.0	0.0	0.0	0.0	0.036364	0.0	0.0	0.0	0.018182	0.0	0.0	0.0	0.0	0.0	0.018182	0.018182	0.0	0.0	0.0	0.000000	0.0	0.0	0.0	0.0	0.0	0.0	0.0	0.0	0.0	0.0	0.0	0.018182	0.018182	0.018182	0.000000	0.0	0.0	0.0	0.0	0.0	0.0	0.0	0.0	0.0	0.018182	0.0	0.0	0.0	0.0	0.0	0.000000	0.0	0.000000	0.018182	0.018182	0.0	0.018182	0.0	0.0	0.0	0.0	0.0	0.018182	0.0	0.0	0.0	0.0	0.0	0.0	0.0	0.0	0.0	0.0	0.0	0.0	0.0	0.018182	0.0	0.0	0.0	0.018182	0.0	0.0	0.0	0.0	0.0	0.0	0.018182	0.000000	0.000000	0.018182	0.0	0.0	0.0	0.0	0.0	0.0	0.0	0.0	0.0	0.0	0.0	0.0	0.0	0.036364	0.0	0.0	0.0	0.0	0.0	0.0	0.0	0.036364	0.0	0.0	0.0	0.0	0.0	0.0	0.0	0.0	0.0	0.0	0.018182	0.0	0.000000	0.0	0.018182	0.0	0.0	0.0	0.018182	0.0	0.0	0.018182	0.0	0.0	0.0	0.0	0.018182	0.0	0.0	0.0	0.0	0.0	0.0	0.018182	0.0	0.0	0.0	0.0
1	Brockton, Parkdale Village, Exhibition Place	0.0	0.0	0.0	0.0	0.0	0.0	0.0	0.0	0.0	0.0	0.000000	0.0	0.0	0.0	0.0	0.0	0.0	0.0	0.000000	0.045455	0.0	0.045455	0.0	0.000000	0.000000	0.0	0.000000	0.0	0.0	0.0	0.000000	0.0	0.0	0.0	0.0	0.090909	0.0	0.0	0.0	0.0	0.045455	0.0	0.0	0.136364	0.0	0.0	0.0	0.000000	0.0	0.0	0.0	0.045455	0.000000	0.000000	0.090909	0.0	0.0	0.0	0.0	0.0	0.0	0.000000	0.0	0.000000	0.045455	0.0	0.0	0.000000	0.0	0.0	0.0	0.0	0.000000	0.0	0.000000	0.0	0.0	0.0	0.0	0.0	0.0	0.000000	0.0	0.0	0.0	0.0	0.000000	0.0	0.0	0.0	0.000000	0.0	0.0	0.0	0.0	0.0	0.000000	0.000000	0.0	0.0	0.0	0.045455	0.0	0.0	0.0	0.0	0.0	0.0	0.0	0.0	0.0	0.0	0.0	0.000000	0.000000	0.045455	0.045455	0.0	0.0	0.0	0.0	0.0	0.0	0.0	0.0	0.0	0.000000	0.0	0.0	0.0	0.0	0.0	0.045455	0.0	0.045455	0.000000	0.000000	0.0	0.000000	0.0	0.0	0.0	0.0	0.0	0.000000	0.0	0.0	0.0	0.0	0.0	0.0	0.0	0.0	0.0	0.0	0.0	0.0	0.0	0.000000	0.0	0.0	0.0	0.045455	0.0	0.0	0.0	0.0	0.0	0.0	0.000000	0.045455	0.045455	0.000000	0.0	0.0	0.0	0.0	0.0	0.0	0.0	0.0	0.0	0.0	0.0	0.0	0.0	0.045455	0.0	0.0	0.0	0.0	0.0	0.0	0.0	0.000000	0.0	0.0	0.0	0.0	0.0	0.0	0.0	0.0	0.0	0.0	0.000000	0.0	0.045455	0.0	0.000000	0.0	0.0	0.0	0.000000	0.0	0.0	0.000000	0.0	0.0	0.0	0.0	0.000000	0.0	0.0	0.0	0.0	0.0	0.0	0.000000	0.0	0.0	0.0	0.0
Start with Classification
Classification by KNN-Algorithm
# Function that returns the most common venues

def return_most_common_venues(row, num_top_venues):
    row_categories = row.iloc[1:]
    row_categories_sorted = row_categories.sort_values(ascending=False)
    
    return row_categories_sorted.index.values[0:num_top_venues]
num_top_venues = 10

indicators = ['st', 'nd', 'rd']

#Create columns according to number of top venues
columns = ['Neighbourhood']
for ind in np.arange(num_top_venues):
    try:
        columns.append('{}{} Most Common Venue'.format(ind+1, indicators[ind]))
    except:
        columns.append('{}th Most Common Venue'.format(ind+1))

#Create a new dataframe
neighborhoods_venues_sorted = pd.DataFrame(columns=columns)
neighborhoods_venues_sorted['Neighbourhood'] = toronto_grouped['Neighbourhood']

for ind in np.arange(toronto_grouped.shape[0]):
    neighborhoods_venues_sorted.iloc[ind, 1:] = return_most_common_venues(toronto_grouped.iloc[ind, :], num_top_venues)

neighborhoods_venues_sorted.head(2)
Neighbourhood	1st Most Common Venue	2nd Most Common Venue	3rd Most Common Venue	4th Most Common Venue	5th Most Common Venue	6th Most Common Venue	7th Most Common Venue	8th Most Common Venue	9th Most Common Venue	10th Most Common Venue
0	Berczy Park	Coffee Shop	Cocktail Bar	Restaurant	Bakery	Beer Bar	Farmers Market	Seafood Restaurant	Cheese Shop	Park	Beach
1	Brockton, Parkdale Village, Exhibition Place	Café	Breakfast Spot	Coffee Shop	Climbing Gym	Burrito Place	Restaurant	Stadium	Italian Restaurant	Bar	Intersection
# set the number of clusters
k_clusters=10

from sklearn.cluster import KMeans
#Construct the model
KM=KMeans(n_clusters=k_clusters, init='k-means++', random_state=0)
#Prepare the X Data
toronto_grouped_clustering=toronto_grouped.iloc[:,1:]
#Fit the model to the prepared data
KM.fit(toronto_grouped_clustering)
#Produce Cluster labels
cluster_labels=KM.labels_
cluster_labels
array([5, 5, 5, 5, 5, 1, 5, 5, 5, 9, 1, 5, 6, 5, 5, 1, 5, 5, 3, 5, 4, 5,
       5, 5, 5, 5, 7, 2, 5, 5, 5, 5, 5, 5, 0, 8, 5, 5, 1], dtype=int32)
#Adding Column Cluster Label to the dataframe neighborhoods_venues_sorted
neighborhoods_venues_sorted['Cluster_Label']=cluster_labels
#Merging the dataframes df_toronto and neighborhoods_venues_sorted
total_toronto_data=pd.merge(df_toronto,neighborhoods_venues_sorted,on='Neighbourhood')
total_toronto_data.head(2)
Postal Code	Borough	Neighbourhood	Latitude	Longitude	1st Most Common Venue	2nd Most Common Venue	3rd Most Common Venue	4th Most Common Venue	5th Most Common Venue	6th Most Common Venue	7th Most Common Venue	8th Most Common Venue	9th Most Common Venue	10th Most Common Venue	Cluster_Label
0	M4E	East Toronto	The Beaches	43.676357	-79.293031	Pub	Park	Neighborhood	Trail	Health Food Store	Yoga Studio	Dessert Shop	Diner	Discount Store	Distribution Center	8
1	M4K	East Toronto	The Danforth West, Riverdale	43.679557	-79.352188	Greek Restaurant	Coffee Shop	Italian Restaurant	Furniture / Home Store	Restaurant	Ice Cream Shop	Cosmetics Shop	Brewery	Bubble Tea Shop	Café	5
CREATE THE MAP
toronto_map_empty=folium.Map(location=[lat,long],zoom_start=13)
#toronto_map_empty

import matplotlib as plt


# set color scheme for the clusters
x = np.arange(k_clusters)
ys = [i + x + (i*x)**2 for i in range(k_clusters)]
colors_array = cm.rainbow(np.linspace(0, 1, len(ys)))
rainbow = [plt.colors.rgb2hex(i) for i in colors_array]

# add markers to the map
markers_colors = []
for lat, long, neigh, cluster in zip(total_toronto_data['Latitude'], total_toronto_data['Longitude'], total_toronto_data['Neighbourhood'],total_toronto_data['Cluster_Label']):
    label = folium.Popup(str(neigh) + ' Cluster ' + str(cluster), parse_html=True)
    folium.CircleMarker(
        [lat, long],
        radius=5,
        popup=label,
        color=rainbow[cluster-1],
        fill=True,
        fill_color=rainbow[cluster-1],
        fill_opacity=1).add_to(toronto_map_empty)
toronto_map_empty
